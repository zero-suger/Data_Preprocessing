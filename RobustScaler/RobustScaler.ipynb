{
 "cells": [
  {
   "cell_type": "code",
   "execution_count": 3,
   "id": "a0dd1fd0",
   "metadata": {},
   "outputs": [
    {
     "data": {
      "text/plain": [
       "0     1090.4\n",
       "1     1179.2\n",
       "2     1226.1\n",
       "3     1282.1\n",
       "4     1252.1\n",
       "5     1356.7\n",
       "6     1383.5\n",
       "7     1410.2\n",
       "8     1384.7\n",
       "9     1481.0\n",
       "10    1517.2\n",
       "11    1547.9\n",
       "12    1647.9\n",
       "13    1711.6\n",
       "14    1806.9\n",
       "15    1918.5\n",
       "16    2048.9\n",
       "17    2100.3\n",
       "18    2195.4\n",
       "19    2260.7\n",
       "20    2250.7\n",
       "21    2332.0\n",
       "22    2465.5\n",
       "23    2602.8\n",
       "24    2564.2\n",
       "25    2530.9\n",
       "26    2680.5\n",
       "27    2822.4\n",
       "28    3115.2\n",
       "29    3192.4\n",
       "30    3187.1\n",
       "31    3248.8\n",
       "32    3166.0\n",
       "33    3279.1\n",
       "34    3489.9\n",
       "35    3585.2\n",
       "36    3676.5\n",
       "37    3847.0\n",
       "Name: gnp, dtype: float64"
      ]
     },
     "execution_count": 3,
     "metadata": {},
     "output_type": "execute_result"
    }
   ],
   "source": [
    "import pandas as pd\n",
    "from sklearn.preprocessing import RobustScaler # importing Robustscaler\n",
    "# import matplotlib.pyplot as plt\n",
    "\n",
    "robust_scaler = RobustScaler()\n",
    "data = pd.read_csv('USGasB_Robust_Scaler.csv')\n",
    "\n",
    "X = data.iloc[:, 5]\n",
    "\n",
    "robust_scaler.fit_transform(data)\n"
   ]
  },
  {
   "cell_type": "code",
   "execution_count": null,
   "id": "130da5ce",
   "metadata": {},
   "outputs": [],
   "source": []
  }
 ],
 "metadata": {
  "kernelspec": {
   "display_name": "Python 3 (ipykernel)",
   "language": "python",
   "name": "python3"
  },
  "language_info": {
   "codemirror_mode": {
    "name": "ipython",
    "version": 3
   },
   "file_extension": ".py",
   "mimetype": "text/x-python",
   "name": "python",
   "nbconvert_exporter": "python",
   "pygments_lexer": "ipython3",
   "version": "3.10.9"
  }
 },
 "nbformat": 4,
 "nbformat_minor": 5
}
