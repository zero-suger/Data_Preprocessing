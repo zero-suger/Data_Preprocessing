{
 "cells": [
  {
   "cell_type": "code",
   "execution_count": null,
   "id": "6efa6abe",
   "metadata": {},
   "outputs": [],
   "source": [
    "\n",
    "import numpy as np\n",
    "\n",
    "#numpy algorithm\n",
    "\n",
    "np.random.seed(0) # the value of first number saved into seed 0\n",
    "\n",
    "first_number = np.random.randint(1,11, size = 3) # (size = integer) means the how many time generate number\n",
    "\n",
    "\n",
    "\n",
    "# with for loop\n",
    "\n",
    "my_random_numbers = []\n",
    "\n",
    "for i in range (2):\n",
    "    \n",
    "    numbers = random.randint(1,10)\n",
    "    my_random_numbers.append(numbers)\n",
    "    \n",
    "my_random_number\n",
    "\n"
   ]
  },
  {
   "cell_type": "code",
   "execution_count": null,
   "id": "1eeca1ea",
   "metadata": {},
   "outputs": [],
   "source": []
  },
  {
   "cell_type": "code",
   "execution_count": null,
   "id": "e3be7a05",
   "metadata": {},
   "outputs": [],
   "source": []
  }
 ],
 "metadata": {
  "kernelspec": {
   "display_name": "Python 3 (ipykernel)",
   "language": "python",
   "name": "python3"
  },
  "language_info": {
   "codemirror_mode": {
    "name": "ipython",
    "version": 3
   },
   "file_extension": ".py",
   "mimetype": "text/x-python",
   "name": "python",
   "nbconvert_exporter": "python",
   "pygments_lexer": "ipython3",
   "version": "3.10.9"
  }
 },
 "nbformat": 4,
 "nbformat_minor": 5
}
