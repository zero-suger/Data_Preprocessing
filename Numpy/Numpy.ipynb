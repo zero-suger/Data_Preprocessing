{
 "cells": [
  {
   "cell_type": "code",
   "execution_count": 1,
   "id": "c7b3d0f9",
   "metadata": {},
   "outputs": [],
   "source": [
    "import numpy as np"
   ]
  },
  {
   "cell_type": "code",
   "execution_count": 25,
   "id": "c144a89b",
   "metadata": {},
   "outputs": [
    {
     "data": {
      "text/plain": [
       "144.0"
      ]
     },
     "execution_count": 25,
     "metadata": {},
     "output_type": "execute_result"
    }
   ],
   "source": [
    "my_list = np.arange(1,5, 2 ) # get range 1 to 5 with the step of 2\n",
    "\n",
    "my_new_list = np.array([[1, 2, 3, 4],[4, 5, 6, 7]], dtype = np.int8) # np.int8 it just to take less space\n",
    "\n",
    "my_new_list.shape # shows the dimension or shape of the array\n",
    "\n",
    "my_new_list.reshape((4,2)) # which change the shape of the array 4 rows and 2 cols\n",
    "\n",
    "empyt_array = np.zeros((2,2)) # creates 2 by 2 array with all values are 0 \n",
    "ones_array = np.ones((2,2)) # creates 2 by 2 array with all values are 1\n",
    "\n",
    "eye_array = np.eye(3, k = 1) # creates the 3 by 3 array and change main diagonal to 1s\n",
    "# k = 1 means the 1 step up 1s \n",
    "\n",
    "eye_array[eye_array == 0] = 5 # which goes to the array and finds all valueswith 0 and change them with 5\n",
    "eye_array[eye_array > 0] = 5  # we can do any kinda operations inside the array and we can change them   \n",
    "\n",
    "eye_array[:2] = 9 # :2 means get all rows until 2 nd row : get all rows \n",
    "eye_array[:2, 1] = 9 # means get rows until the 2nd row and 1 col of the array\n",
    " \n",
    "sorted_row = np.sort(eye_array, axis = 0) # sort each row elements from min to max value axis = 0 means col\n",
    "\n",
    "# array_name.view() and array_name.copy() can be use to copy the array but the difference: when we use the view the original array also change but in the copy it is not\n",
    " \n",
    "a = np.zeros((3,3))\n",
    "a.fill(8) # fills all values of the array with 8 \n",
    "\n",
    "a += 8 # also i can apply some math into this array +=, -=, *= and this math can effect each values into the array \n",
    "\n",
    "array_sum = a.sum() # we can apply sum function which can calculate the addition of each values into the array\n",
    "array_sum = a.sum(0) # also we can do math operations to each rows and cols 0 means the col and 1 means the rows\n",
    "\n",
    "array_prod = a.prod() # can calculate the * of each values each other\n",
    "array_mean = a.mean() # can calculate the avarage of each values each other\n",
    "array_max, array_min = a.max(), a.min() # can find max and min values into the given array and save it into vars\n",
    "\n",
    "a.flatten() # can make any n by n array into one line f array \n",
    "\n",
    "\n",
    "\n",
    "\n",
    "\n",
    "\n"
   ]
  },
  {
   "cell_type": "code",
   "execution_count": null,
   "id": "9f52dcea",
   "metadata": {},
   "outputs": [],
   "source": []
  },
  {
   "cell_type": "code",
   "execution_count": null,
   "id": "cab5196d",
   "metadata": {},
   "outputs": [],
   "source": []
  }
 ],
 "metadata": {
  "kernelspec": {
   "display_name": "Python 3 (ipykernel)",
   "language": "python",
   "name": "python3"
  },
  "language_info": {
   "codemirror_mode": {
    "name": "ipython",
    "version": 3
   },
   "file_extension": ".py",
   "mimetype": "text/x-python",
   "name": "python",
   "nbconvert_exporter": "python",
   "pygments_lexer": "ipython3",
   "version": "3.10.9"
  }
 },
 "nbformat": 4,
 "nbformat_minor": 5
}
