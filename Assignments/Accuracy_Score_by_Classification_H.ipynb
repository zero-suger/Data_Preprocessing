{
 "cells": [
  {
   "cell_type": "code",
   "execution_count": 2,
   "id": "2ee9063b",
   "metadata": {},
   "outputs": [],
   "source": [
    "#Try to logically guess how accuracy score is computed in ML. Try to write a code to compute accuracy (from scratch) for the following example: preds = [1,7,3,1,5,3,1,3,2,4,6], gts = [1,6,3,2,5,2,1,0,2,2,6].\n",
    "\n",
    "#The most intuitive way to evaluate the performance of any Classification algorithm is to calculate the percentage of its correct predictions. And this is precisely the logic behind the Accuracy score.\n"
   ]
  },
  {
   "cell_type": "code",
   "execution_count": 45,
   "id": "5d452191",
   "metadata": {},
   "outputs": [
    {
     "data": {
      "text/plain": [
       "0.5454545454545454"
      ]
     },
     "execution_count": 45,
     "metadata": {},
     "output_type": "execute_result"
    }
   ],
   "source": [
    "\n",
    "from sklearn.metrics import accuracy_score\n",
    "\n",
    "  # Initializing the arrays (multiclass case)\n",
    "pred = [1,7,3,1,5,3,1,3,2,4,6]\n",
    "gts = [1,6,3,2,5,2,1,0,2,2,6]\n",
    "\n",
    "  # Calculating and printing the result\n",
    "accuracy_score( pred, gts, normalize = True)\n",
    "\n",
    "# by math : accurancy = total numbers of correct / total numbers : 6 (true prodicted numbers) / 11 (total numbers in pred) =0.54545454 "
   ]
  },
  {
   "cell_type": "code",
   "execution_count": null,
   "id": "34816bc7",
   "metadata": {},
   "outputs": [],
   "source": []
  },
  {
   "cell_type": "code",
   "execution_count": null,
   "id": "5fdafbff",
   "metadata": {},
   "outputs": [],
   "source": []
  }
 ],
 "metadata": {
  "kernelspec": {
   "display_name": "Python 3 (ipykernel)",
   "language": "python",
   "name": "python3"
  },
  "language_info": {
   "codemirror_mode": {
    "name": "ipython",
    "version": 3
   },
   "file_extension": ".py",
   "mimetype": "text/x-python",
   "name": "python",
   "nbconvert_exporter": "python",
   "pygments_lexer": "ipython3",
   "version": "3.10.9"
  }
 },
 "nbformat": 4,
 "nbformat_minor": 5
}
